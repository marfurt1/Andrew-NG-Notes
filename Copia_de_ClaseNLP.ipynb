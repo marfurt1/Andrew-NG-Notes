{
  "nbformat": 4,
  "nbformat_minor": 0,
  "metadata": {
    "colab": {
      "name": "Copia de ClaseNLP.ipynb",
      "provenance": [],
      "include_colab_link": true
    },
    "kernelspec": {
      "name": "python3",
      "display_name": "Python 3"
    },
    "language_info": {
      "name": "python"
    }
  },
  "cells": [
    {
      "cell_type": "markdown",
      "metadata": {
        "id": "view-in-github",
        "colab_type": "text"
      },
      "source": [
        "<a href=\"https://colab.research.google.com/github/marfurt1/Andrew-NG-Notes/blob/master/Copia_de_ClaseNLP.ipynb\" target=\"_parent\"><img src=\"https://colab.research.google.com/assets/colab-badge.svg\" alt=\"Open In Colab\"/></a>"
      ]
    },
    {
      "cell_type": "code",
      "execution_count": null,
      "metadata": {
        "colab": {
          "base_uri": "https://localhost:8080/"
        },
        "id": "70zjeQom2Ogl",
        "outputId": "ea7084ed-cdde-42fb-9dc3-d5322968518f"
      },
      "outputs": [
        {
          "output_type": "stream",
          "name": "stderr",
          "text": [
            "[nltk_data] Downloading package stopwords to /root/nltk_data...\n",
            "[nltk_data]   Package stopwords is already up-to-date!\n"
          ]
        },
        {
          "output_type": "execute_result",
          "data": {
            "text/plain": [
              "True"
            ]
          },
          "metadata": {},
          "execution_count": 37
        }
      ],
      "source": [
        "import pandas as pd \n",
        "import numpy as np\n",
        "import nltk \n",
        "import re\n",
        "import unicodedata\n",
        "from nltk.corpus import stopwords\n",
        "from sklearn.feature_extraction.text import CountVectorizer\n",
        "from sklearn.naive_bayes import MultinomialNB\n",
        "from sklearn.model_selection import train_test_split\n",
        "\n",
        "nltk.download('stopwords')\n"
      ]
    },
    {
      "cell_type": "code",
      "source": [
        "df_raw = pd.read_csv(\"https://raw.githubusercontent.com/4GeeksAcademy/machine-learning-content/master/assets/spam.csv\")"
      ],
      "metadata": {
        "id": "gnceA-L-2nZj"
      },
      "execution_count": null,
      "outputs": []
    },
    {
      "cell_type": "code",
      "source": [
        "df_raw.info()"
      ],
      "metadata": {
        "colab": {
          "base_uri": "https://localhost:8080/"
        },
        "id": "6c14qFHZ2zip",
        "outputId": "1db5edad-6a66-4be1-fdf3-d5f97306f177"
      },
      "execution_count": null,
      "outputs": [
        {
          "output_type": "stream",
          "name": "stdout",
          "text": [
            "<class 'pandas.core.frame.DataFrame'>\n",
            "RangeIndex: 5572 entries, 0 to 5571\n",
            "Data columns (total 2 columns):\n",
            " #   Column    Non-Null Count  Dtype \n",
            "---  ------    --------------  ----- \n",
            " 0   Category  5572 non-null   object\n",
            " 1   Message   5572 non-null   object\n",
            "dtypes: object(2)\n",
            "memory usage: 87.2+ KB\n"
          ]
        }
      ]
    },
    {
      "cell_type": "code",
      "source": [
        "df_raw.sample(10)"
      ],
      "metadata": {
        "colab": {
          "base_uri": "https://localhost:8080/",
          "height": 363
        },
        "id": "NqK6AMNZ27iA",
        "outputId": "3082d212-25c5-4da5-9332-bf9956eb1c1d"
      },
      "execution_count": null,
      "outputs": [
        {
          "output_type": "execute_result",
          "data": {
            "text/plain": [
              "     Category                                            Message\n",
              "1636      ham  You have come into my life and brought the sun...\n",
              "2341      ham  I will take care of financial problem.i will h...\n",
              "537       ham  Probably gonna be here for a while, see you la...\n",
              "4651      ham  Finally it has happened..! Aftr decades..! BEE...\n",
              "3676      ham                           Whos this am in class:-)\n",
              "1480      ham  My trip was ok but quite tiring lor. Uni start...\n",
              "5220      ham                I have to take exam with in march 3\n",
              "220       ham  Yeah you should. I think you can use your gt a...\n",
              "260       ham  I‘m parked next to a MINI!!!! When are you com...\n",
              "4050      ham                   Yeah that's the impression I got"
            ],
            "text/html": [
              "\n",
              "  <div id=\"df-6df87b42-30c2-4682-a600-349713ba55de\">\n",
              "    <div class=\"colab-df-container\">\n",
              "      <div>\n",
              "<style scoped>\n",
              "    .dataframe tbody tr th:only-of-type {\n",
              "        vertical-align: middle;\n",
              "    }\n",
              "\n",
              "    .dataframe tbody tr th {\n",
              "        vertical-align: top;\n",
              "    }\n",
              "\n",
              "    .dataframe thead th {\n",
              "        text-align: right;\n",
              "    }\n",
              "</style>\n",
              "<table border=\"1\" class=\"dataframe\">\n",
              "  <thead>\n",
              "    <tr style=\"text-align: right;\">\n",
              "      <th></th>\n",
              "      <th>Category</th>\n",
              "      <th>Message</th>\n",
              "    </tr>\n",
              "  </thead>\n",
              "  <tbody>\n",
              "    <tr>\n",
              "      <th>1636</th>\n",
              "      <td>ham</td>\n",
              "      <td>You have come into my life and brought the sun...</td>\n",
              "    </tr>\n",
              "    <tr>\n",
              "      <th>2341</th>\n",
              "      <td>ham</td>\n",
              "      <td>I will take care of financial problem.i will h...</td>\n",
              "    </tr>\n",
              "    <tr>\n",
              "      <th>537</th>\n",
              "      <td>ham</td>\n",
              "      <td>Probably gonna be here for a while, see you la...</td>\n",
              "    </tr>\n",
              "    <tr>\n",
              "      <th>4651</th>\n",
              "      <td>ham</td>\n",
              "      <td>Finally it has happened..! Aftr decades..! BEE...</td>\n",
              "    </tr>\n",
              "    <tr>\n",
              "      <th>3676</th>\n",
              "      <td>ham</td>\n",
              "      <td>Whos this am in class:-)</td>\n",
              "    </tr>\n",
              "    <tr>\n",
              "      <th>1480</th>\n",
              "      <td>ham</td>\n",
              "      <td>My trip was ok but quite tiring lor. Uni start...</td>\n",
              "    </tr>\n",
              "    <tr>\n",
              "      <th>5220</th>\n",
              "      <td>ham</td>\n",
              "      <td>I have to take exam with in march 3</td>\n",
              "    </tr>\n",
              "    <tr>\n",
              "      <th>220</th>\n",
              "      <td>ham</td>\n",
              "      <td>Yeah you should. I think you can use your gt a...</td>\n",
              "    </tr>\n",
              "    <tr>\n",
              "      <th>260</th>\n",
              "      <td>ham</td>\n",
              "      <td>I‘m parked next to a MINI!!!! When are you com...</td>\n",
              "    </tr>\n",
              "    <tr>\n",
              "      <th>4050</th>\n",
              "      <td>ham</td>\n",
              "      <td>Yeah that's the impression I got</td>\n",
              "    </tr>\n",
              "  </tbody>\n",
              "</table>\n",
              "</div>\n",
              "      <button class=\"colab-df-convert\" onclick=\"convertToInteractive('df-6df87b42-30c2-4682-a600-349713ba55de')\"\n",
              "              title=\"Convert this dataframe to an interactive table.\"\n",
              "              style=\"display:none;\">\n",
              "        \n",
              "  <svg xmlns=\"http://www.w3.org/2000/svg\" height=\"24px\"viewBox=\"0 0 24 24\"\n",
              "       width=\"24px\">\n",
              "    <path d=\"M0 0h24v24H0V0z\" fill=\"none\"/>\n",
              "    <path d=\"M18.56 5.44l.94 2.06.94-2.06 2.06-.94-2.06-.94-.94-2.06-.94 2.06-2.06.94zm-11 1L8.5 8.5l.94-2.06 2.06-.94-2.06-.94L8.5 2.5l-.94 2.06-2.06.94zm10 10l.94 2.06.94-2.06 2.06-.94-2.06-.94-.94-2.06-.94 2.06-2.06.94z\"/><path d=\"M17.41 7.96l-1.37-1.37c-.4-.4-.92-.59-1.43-.59-.52 0-1.04.2-1.43.59L10.3 9.45l-7.72 7.72c-.78.78-.78 2.05 0 2.83L4 21.41c.39.39.9.59 1.41.59.51 0 1.02-.2 1.41-.59l7.78-7.78 2.81-2.81c.8-.78.8-2.07 0-2.86zM5.41 20L4 18.59l7.72-7.72 1.47 1.35L5.41 20z\"/>\n",
              "  </svg>\n",
              "      </button>\n",
              "      \n",
              "  <style>\n",
              "    .colab-df-container {\n",
              "      display:flex;\n",
              "      flex-wrap:wrap;\n",
              "      gap: 12px;\n",
              "    }\n",
              "\n",
              "    .colab-df-convert {\n",
              "      background-color: #E8F0FE;\n",
              "      border: none;\n",
              "      border-radius: 50%;\n",
              "      cursor: pointer;\n",
              "      display: none;\n",
              "      fill: #1967D2;\n",
              "      height: 32px;\n",
              "      padding: 0 0 0 0;\n",
              "      width: 32px;\n",
              "    }\n",
              "\n",
              "    .colab-df-convert:hover {\n",
              "      background-color: #E2EBFA;\n",
              "      box-shadow: 0px 1px 2px rgba(60, 64, 67, 0.3), 0px 1px 3px 1px rgba(60, 64, 67, 0.15);\n",
              "      fill: #174EA6;\n",
              "    }\n",
              "\n",
              "    [theme=dark] .colab-df-convert {\n",
              "      background-color: #3B4455;\n",
              "      fill: #D2E3FC;\n",
              "    }\n",
              "\n",
              "    [theme=dark] .colab-df-convert:hover {\n",
              "      background-color: #434B5C;\n",
              "      box-shadow: 0px 1px 3px 1px rgba(0, 0, 0, 0.15);\n",
              "      filter: drop-shadow(0px 1px 2px rgba(0, 0, 0, 0.3));\n",
              "      fill: #FFFFFF;\n",
              "    }\n",
              "  </style>\n",
              "\n",
              "      <script>\n",
              "        const buttonEl =\n",
              "          document.querySelector('#df-6df87b42-30c2-4682-a600-349713ba55de button.colab-df-convert');\n",
              "        buttonEl.style.display =\n",
              "          google.colab.kernel.accessAllowed ? 'block' : 'none';\n",
              "\n",
              "        async function convertToInteractive(key) {\n",
              "          const element = document.querySelector('#df-6df87b42-30c2-4682-a600-349713ba55de');\n",
              "          const dataTable =\n",
              "            await google.colab.kernel.invokeFunction('convertToInteractive',\n",
              "                                                     [key], {});\n",
              "          if (!dataTable) return;\n",
              "\n",
              "          const docLinkHtml = 'Like what you see? Visit the ' +\n",
              "            '<a target=\"_blank\" href=https://colab.research.google.com/notebooks/data_table.ipynb>data table notebook</a>'\n",
              "            + ' to learn more about interactive tables.';\n",
              "          element.innerHTML = '';\n",
              "          dataTable['output_type'] = 'display_data';\n",
              "          await google.colab.output.renderOutput(dataTable, element);\n",
              "          const docLink = document.createElement('div');\n",
              "          docLink.innerHTML = docLinkHtml;\n",
              "          element.appendChild(docLink);\n",
              "        }\n",
              "      </script>\n",
              "    </div>\n",
              "  </div>\n",
              "  "
            ]
          },
          "metadata": {},
          "execution_count": 5
        }
      ]
    },
    {
      "cell_type": "code",
      "source": [
        "# Tratar de llevar la informacion de texto a minuscula\n",
        "df_raw['Message'] = df_raw['Message'].str.lower()"
      ],
      "metadata": {
        "id": "gmAvqOC03VNR"
      },
      "execution_count": null,
      "outputs": []
    },
    {
      "cell_type": "code",
      "source": [
        "# Elementos de texto que no son informativos - stopwords\n",
        "# Tratar de encontrar esos \n",
        "df_raw['Message'].str.split(expand=True).stack().value_counts()[:60]\n"
      ],
      "metadata": {
        "colab": {
          "base_uri": "https://localhost:8080/"
        },
        "id": "L2zHo8Ci39JI",
        "outputId": "6a4cfa0c-341d-401c-a3db-f3fd5b72f5b6"
      },
      "execution_count": null,
      "outputs": [
        {
          "output_type": "execute_result",
          "data": {
            "text/plain": [
              "to           2234\n",
              "i            2217\n",
              "you          1921\n",
              "a            1433\n",
              "the          1326\n",
              "u             996\n",
              "and           968\n",
              "is            868\n",
              "in            857\n",
              "my            755\n",
              "for           704\n",
              "your          677\n",
              "of            614\n",
              "me            611\n",
              "have          568\n",
              "call          556\n",
              "on            521\n",
              "are           487\n",
              "that          470\n",
              "it            466\n",
              "2             457\n",
              "so            423\n",
              "but           422\n",
              "or            415\n",
              "not           411\n",
              "at            400\n",
              "can           386\n",
              "ur            385\n",
              "if            382\n",
              "with          379\n",
              "will          379\n",
              "i'm           377\n",
              "be            376\n",
              "get           375\n",
              "do            364\n",
              "just          363\n",
              "we            346\n",
              "this          309\n",
              "when          283\n",
              "from          277\n",
              "&lt;#&gt;     276\n",
              "go            265\n",
              "up            264\n",
              "all           261\n",
              "no            258\n",
              "4             255\n",
              "how           254\n",
              "what          252\n",
              "now           247\n",
              ".             241\n",
              "like          236\n",
              "got           235\n",
              "know          230\n",
              "was           230\n",
              "free          228\n",
              "out           220\n",
              "come          220\n",
              "am            217\n",
              "its           209\n",
              "then          205\n",
              "dtype: int64"
            ]
          },
          "metadata": {},
          "execution_count": 8
        }
      ]
    },
    {
      "cell_type": "code",
      "source": [
        "# funcion para retirar los stopswords\n",
        "\n",
        "stop=stopwords.words('english')\n",
        "def remove_stopwords(message):\n",
        "  if message is not None:\n",
        "    words = message.strip().split()\n",
        "    words_filtered = []\n",
        "    for word in words:\n",
        "      if word not in stop:\n",
        "        words_filtered.append(word) \n",
        "    result = \" \".join(words_filtered)         \n",
        "  else:\n",
        "    result = None\n",
        "\n",
        "  return result  \n"
      ],
      "metadata": {
        "id": "OgXnDs6n5uCg"
      },
      "execution_count": null,
      "outputs": []
    },
    {
      "cell_type": "code",
      "source": [
        "df_interin = df_raw.copy()"
      ],
      "metadata": {
        "id": "q-uN_9hE8XWD"
      },
      "execution_count": null,
      "outputs": []
    },
    {
      "cell_type": "code",
      "source": [
        "df_interin['Message']=df_interin['Message'].apply(remove_stopwords)"
      ],
      "metadata": {
        "id": "MPq5bWGS8kDv"
      },
      "execution_count": null,
      "outputs": []
    },
    {
      "cell_type": "code",
      "source": [
        "df_interin['Message'].str.split(expand=True).stack().value_counts()[:60]"
      ],
      "metadata": {
        "colab": {
          "base_uri": "https://localhost:8080/"
        },
        "id": "dhUXywzU86_Y",
        "outputId": "fb48b254-3eb9-4851-d1c6-a9eae0be9cbb"
      },
      "execution_count": null,
      "outputs": [
        {
          "output_type": "execute_result",
          "data": {
            "text/plain": [
              "u            996\n",
              "call         556\n",
              "2            457\n",
              "ur           385\n",
              "i'm          377\n",
              "get          375\n",
              "&lt;#&gt;    276\n",
              "go           265\n",
              "4            255\n",
              ".            241\n",
              "like         236\n",
              "got          235\n",
              "know         230\n",
              "free         228\n",
              "come         220\n",
              "good         201\n",
              "?            187\n",
              "send         187\n",
              "want         183\n",
              "text         175\n",
              "time         169\n",
              "i'll         168\n",
              "...          163\n",
              "love         163\n",
              "going        161\n",
              "ok           160\n",
              "ü            157\n",
              "need         157\n",
              "r            153\n",
              "still        151\n",
              "one          150\n",
              "txt          149\n",
              "n            146\n",
              "see          145\n",
              "dont         140\n",
              "new          136\n",
              "tell         135\n",
              "think        127\n",
              "reply        126\n",
              "mobile       124\n",
              "take         124\n",
              "back         121\n",
              "stop         119\n",
              "please       118\n",
              "home         112\n",
              "day          111\n",
              "&            111\n",
              "hi           108\n",
              "claim        104\n",
              "hope         103\n",
              "make         101\n",
              "give         100\n",
              "pls           99\n",
              "me.           98\n",
              "phone         97\n",
              "now.          94\n",
              "later         94\n",
              "happy         93\n",
              "much          93\n",
              "hey           88\n",
              "dtype: int64"
            ]
          },
          "metadata": {},
          "execution_count": 15
        }
      ]
    },
    {
      "cell_type": "code",
      "source": [
        "df_interin['Message'] = df_interin['Message'].str.replace(\".\",\"\",regex=False)\n",
        "\n"
      ],
      "metadata": {
        "id": "U8lS7PoA9UTi"
      },
      "execution_count": null,
      "outputs": []
    },
    {
      "cell_type": "code",
      "source": [
        "# primer regex\n",
        "df_interin['Message']=df_interin['Message'].str.replace('''[?&#,;ü']''','',regex=True)"
      ],
      "metadata": {
        "id": "1X5cv2nu-cbq"
      },
      "execution_count": null,
      "outputs": []
    },
    {
      "cell_type": "code",
      "source": [
        "df_interin['Message'].str.split(expand=True).stack().value_counts()[:60]"
      ],
      "metadata": {
        "colab": {
          "base_uri": "https://localhost:8080/"
        },
        "id": "lwPsEkCYAJGY",
        "outputId": "f440119c-9499-4ae7-8dad-0370c0707c52"
      },
      "execution_count": null,
      "outputs": [
        {
          "output_type": "execute_result",
          "data": {
            "text/plain": [
              "u         1105\n",
              "call       573\n",
              "2          472\n",
              "im         461\n",
              "ur         386\n",
              "get        382\n",
              "go         277\n",
              "ltgt       276\n",
              "ok         275\n",
              "4          269\n",
              "free       253\n",
              "know       249\n",
              "like       243\n",
              "ill        238\n",
              "got        237\n",
              "good       232\n",
              "come       228\n",
              "time       205\n",
              "want       193\n",
              "send       190\n",
              "love       189\n",
              "text       186\n",
              "day        183\n",
              "going      170\n",
              "one        170\n",
              "me         167\n",
              "need       166\n",
              "lor        160\n",
              "home       160\n",
              "you        156\n",
              "see        155\n",
              "still      154\n",
              "now        154\n",
              "sorry      153\n",
              "r          153\n",
              "stop       150\n",
              "back       150\n",
              "txt        149\n",
              "dont       147\n",
              "n          146\n",
              "reply      143\n",
              "tell       137\n",
              "new        136\n",
              "later      134\n",
              "think      132\n",
              "mobile     128\n",
              "today      128\n",
              "hi         128\n",
              "well       127\n",
              "it         127\n",
              "take       126\n",
              "please     125\n",
              "da         125\n",
              "cant       124\n",
              "phone      118\n",
              "claim      111\n",
              "night      111\n",
              "much       109\n",
              "dear       109\n",
              "hey        107\n",
              "dtype: int64"
            ]
          },
          "metadata": {},
          "execution_count": 29
        }
      ]
    },
    {
      "cell_type": "code",
      "source": [
        "# Funcion adicional\n",
        "# Para las palabras en español\n",
        "def normalize_string(message):\n",
        "  if message is not None:\n",
        "     result = unicodedata.normalize('NFC',message).encode('ascii','ignore').decode()\n",
        "  else:\n",
        "    result = None\n",
        "  return result     "
      ],
      "metadata": {
        "id": "oMb_i-0RBM7C"
      },
      "execution_count": null,
      "outputs": []
    },
    {
      "cell_type": "code",
      "source": [
        "df_interin['Message']= df_interin['Message'].apply(normalize_string)"
      ],
      "metadata": {
        "id": "w47LB8YgCM4c"
      },
      "execution_count": null,
      "outputs": []
    },
    {
      "cell_type": "code",
      "source": [
        "# Es comun que escriban goooooddd looooove o etc etc.\n",
        "\n",
        "def replace_multiple_letters(message):\n",
        "  if message is not None:\n",
        "    result = re.sub(r\"([a-zA-Z])\\1{2,}\",r\"\\1\",message)\n",
        "  else:\n",
        "    result= None\n",
        "  return result    "
      ],
      "metadata": {
        "id": "W2GZTKDnCh8u"
      },
      "execution_count": null,
      "outputs": []
    },
    {
      "cell_type": "code",
      "source": [
        "df_interin['Message']= df_interin['Message'].apply(replace_multiple_letters)"
      ],
      "metadata": {
        "id": "6EZxJQ2BD3f2"
      },
      "execution_count": null,
      "outputs": []
    },
    {
      "cell_type": "code",
      "source": [
        "df_interin['Message'].str.split(expand=True).stack().value_counts()[:60]"
      ],
      "metadata": {
        "colab": {
          "base_uri": "https://localhost:8080/"
        },
        "outputId": "cfbbfc53-bcf9-4d7d-91c3-f6357278b5da",
        "id": "JJw8-hkTEGlt"
      },
      "execution_count": null,
      "outputs": [
        {
          "output_type": "execute_result",
          "data": {
            "text/plain": [
              "u         1105\n",
              "call       573\n",
              "2          472\n",
              "im         470\n",
              "ur         386\n",
              "get        382\n",
              "go         277\n",
              "ltgt       276\n",
              "ok         275\n",
              "4          269\n",
              "free       253\n",
              "know       249\n",
              "like       243\n",
              "ill        242\n",
              "got        237\n",
              "good       232\n",
              "come       228\n",
              "time       205\n",
              "want       193\n",
              "love       190\n",
              "send       190\n",
              "text       186\n",
              "day        183\n",
              "one        170\n",
              "going      170\n",
              "me         167\n",
              "need       166\n",
              "home       160\n",
              "lor        160\n",
              "dont       158\n",
              "you        157\n",
              "see        155\n",
              "now        154\n",
              "still      154\n",
              "sorry      153\n",
              "r          153\n",
              "stop       150\n",
              "back       150\n",
              "txt        149\n",
              "n          146\n",
              "reply      143\n",
              "tell       137\n",
              "new        136\n",
              "later      134\n",
              "think      132\n",
              "today      128\n",
              "well       128\n",
              "hi         128\n",
              "mobile     128\n",
              "it         127\n",
              "cant       126\n",
              "take       126\n",
              "please     126\n",
              "da         125\n",
              "phone      118\n",
              "claim      111\n",
              "night      111\n",
              "oh         110\n",
              "much       109\n",
              "dear       109\n",
              "dtype: int64"
            ]
          },
          "metadata": {},
          "execution_count": 35
        }
      ]
    },
    {
      "cell_type": "markdown",
      "source": [
        "Hay posibilidad de mejorar y seguir limpiando el texto, letras sueltas, etc..."
      ],
      "metadata": {
        "id": "bRYloaCcKG1O"
      }
    },
    {
      "cell_type": "code",
      "source": [
        "df = df_interin.copy()"
      ],
      "metadata": {
        "id": "zFmddd_QEykR"
      },
      "execution_count": null,
      "outputs": []
    },
    {
      "cell_type": "code",
      "source": [
        "X = df['Message']\n",
        "y = df['Category']\n",
        "X_train, X_test, y_train, y_test = train_test_split(X,y,stratify=y,random_state=121)"
      ],
      "metadata": {
        "id": "TQmt2JHSFWR0"
      },
      "execution_count": null,
      "outputs": []
    },
    {
      "cell_type": "code",
      "source": [
        "\n",
        "# Vectorizador\n",
        "vec = CountVectorizer(stop_words='english')\n",
        "X_train = vec.fit_transform(X_train).toarray()\n",
        "X_test = vec.transform(X_test).toarray()"
      ],
      "metadata": {
        "id": "WkKxsN7EGAd1"
      },
      "execution_count": null,
      "outputs": []
    },
    {
      "cell_type": "code",
      "source": [
        "X_train"
      ],
      "metadata": {
        "colab": {
          "base_uri": "https://localhost:8080/"
        },
        "id": "00HtSWTcG2Cq",
        "outputId": "65b24d02-6b83-40ed-bae5-e83f70df9fcd"
      },
      "execution_count": null,
      "outputs": [
        {
          "output_type": "execute_result",
          "data": {
            "text/plain": [
              "array([[0, 0, 0, ..., 0, 0, 0],\n",
              "       [0, 0, 0, ..., 0, 0, 0],\n",
              "       [0, 0, 0, ..., 0, 0, 0],\n",
              "       ...,\n",
              "       [0, 0, 0, ..., 0, 0, 0],\n",
              "       [0, 0, 0, ..., 0, 0, 0],\n",
              "       [0, 0, 0, ..., 0, 0, 0]])"
            ]
          },
          "metadata": {},
          "execution_count": 43
        }
      ]
    },
    {
      "cell_type": "code",
      "source": [
        "X_train.shape\n",
        "# filas = 4179 mensajes\n",
        "# columnas = 7559 palabras\n",
        "# Esto es para el train - faltan los de test"
      ],
      "metadata": {
        "colab": {
          "base_uri": "https://localhost:8080/"
        },
        "id": "v5qUIl0qHGsV",
        "outputId": "d089d45d-dcd2-4488-d6f4-ed9d792de77d"
      },
      "execution_count": null,
      "outputs": [
        {
          "output_type": "execute_result",
          "data": {
            "text/plain": [
              "(4179, 7559)"
            ]
          },
          "metadata": {},
          "execution_count": 44
        }
      ]
    },
    {
      "cell_type": "code",
      "source": [
        "X_test.shape"
      ],
      "metadata": {
        "colab": {
          "base_uri": "https://localhost:8080/"
        },
        "id": "1V9dMbRdKZIs",
        "outputId": "6fda3d51-0cab-4d8d-a2a9-e7d24c41c124"
      },
      "execution_count": null,
      "outputs": [
        {
          "output_type": "execute_result",
          "data": {
            "text/plain": [
              "(1393, 7559)"
            ]
          },
          "metadata": {},
          "execution_count": 53
        }
      ]
    },
    {
      "cell_type": "code",
      "source": [
        ""
      ],
      "metadata": {
        "id": "_HK6PkqGKcvS"
      },
      "execution_count": null,
      "outputs": []
    },
    {
      "cell_type": "code",
      "source": [
        "print(vec.get_feature_names_out())"
      ],
      "metadata": {
        "colab": {
          "base_uri": "https://localhost:8080/"
        },
        "id": "xWQ3tJAAHsuN",
        "outputId": "c508e68a-3444-4bbc-8a39-144a3957f161"
      },
      "execution_count": null,
      "outputs": [
        {
          "output_type": "stream",
          "name": "stdout",
          "text": [
            "['008704050406' '0089' '0121' ... 'zoe' 'zogtorius' 'zoom']\n"
          ]
        }
      ]
    },
    {
      "cell_type": "code",
      "source": [
        "nb = MultinomialNB()"
      ],
      "metadata": {
        "id": "vxYfK8EwIUqr"
      },
      "execution_count": null,
      "outputs": []
    },
    {
      "cell_type": "code",
      "source": [
        "nb.fit(X_train, y_train)"
      ],
      "metadata": {
        "colab": {
          "base_uri": "https://localhost:8080/"
        },
        "id": "DEEZF8dQIyWK",
        "outputId": "bf810d69-0ea9-482d-facb-4fa896d76b2b"
      },
      "execution_count": null,
      "outputs": [
        {
          "output_type": "execute_result",
          "data": {
            "text/plain": [
              "MultinomialNB()"
            ]
          },
          "metadata": {},
          "execution_count": 48
        }
      ]
    },
    {
      "cell_type": "code",
      "source": [
        "nb.score(X_train,y_train)"
      ],
      "metadata": {
        "colab": {
          "base_uri": "https://localhost:8080/"
        },
        "id": "5b4kLng-I9my",
        "outputId": "710af233-2aa8-4787-ebd3-4ca2040c292c"
      },
      "execution_count": null,
      "outputs": [
        {
          "output_type": "execute_result",
          "data": {
            "text/plain": [
              "0.9952141660684374"
            ]
          },
          "metadata": {},
          "execution_count": 49
        }
      ]
    },
    {
      "cell_type": "code",
      "source": [
        "nb.score(X_test,y_test)"
      ],
      "metadata": {
        "colab": {
          "base_uri": "https://localhost:8080/"
        },
        "id": "Psw1Q8E0JKxV",
        "outputId": "d36c5032-5005-424f-9696-43a474eaf9eb"
      },
      "execution_count": null,
      "outputs": [
        {
          "output_type": "execute_result",
          "data": {
            "text/plain": [
              "0.9820531227566404"
            ]
          },
          "metadata": {},
          "execution_count": 50
        }
      ]
    },
    {
      "cell_type": "code",
      "source": [
        "nb.predict(vec.transform(['hello my friend']))"
      ],
      "metadata": {
        "colab": {
          "base_uri": "https://localhost:8080/"
        },
        "id": "5zAzGSO-JU_N",
        "outputId": "afc1ff48-3948-41c1-cd9a-e5fad3938193"
      },
      "execution_count": null,
      "outputs": [
        {
          "output_type": "execute_result",
          "data": {
            "text/plain": [
              "array(['ham'], dtype='<U4')"
            ]
          },
          "metadata": {},
          "execution_count": 51
        }
      ]
    },
    {
      "cell_type": "code",
      "source": [
        "nb.predict(vec.transform(['free for season']))"
      ],
      "metadata": {
        "colab": {
          "base_uri": "https://localhost:8080/"
        },
        "outputId": "56a2d4d5-d59b-4531-9f89-47bc8d742e4e",
        "id": "wv5ZgxpAJqET"
      },
      "execution_count": null,
      "outputs": [
        {
          "output_type": "execute_result",
          "data": {
            "text/plain": [
              "array(['spam'], dtype='<U4')"
            ]
          },
          "metadata": {},
          "execution_count": 52
        }
      ]
    },
    {
      "cell_type": "code",
      "source": [
        "def compress_date_street_name(message):\n",
        "  if message is not None:\n",
        "    expr = \"(\\d{1,2})\\sde\\s([ene|feb|mar|abr|may|jun|jul|ago|set|sep|oct|nov|dic].*)\"\n",
        "    result = re.sub(expr,r\"\\1de\\2\",message)\n",
        "  else:\n",
        "    result=None\n",
        "  return result    \n"
      ],
      "metadata": {
        "id": "qyoyVzYOLlXE"
      },
      "execution_count": null,
      "outputs": []
    },
    {
      "cell_type": "code",
      "source": [
        "compress_date_street_name(\"calle 18 de julio N.2354 Localidad Durazno Pais Uruguay\")"
      ],
      "metadata": {
        "colab": {
          "base_uri": "https://localhost:8080/",
          "height": 35
        },
        "id": "ZzD7u1vqNuKz",
        "outputId": "560dba60-ae37-435d-9325-28e0117343fb"
      },
      "execution_count": null,
      "outputs": [
        {
          "output_type": "execute_result",
          "data": {
            "text/plain": [
              "'calle 18dejulio N.2354 Localidad Durazno Pais Uruguay'"
            ],
            "application/vnd.google.colaboratory.intrinsic+json": {
              "type": "string"
            }
          },
          "metadata": {},
          "execution_count": 55
        }
      ]
    }
  ]
}