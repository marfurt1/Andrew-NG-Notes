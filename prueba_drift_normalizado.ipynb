{
  "nbformat": 4,
  "nbformat_minor": 0,
  "metadata": {
    "colab": {
      "name": "prueba_drift_normalizado.ipynb",
      "provenance": [],
      "collapsed_sections": [],
      "include_colab_link": true
    },
    "kernelspec": {
      "display_name": "R",
      "name": "ir"
    }
  },
  "cells": [
    {
      "cell_type": "markdown",
      "metadata": {
        "id": "view-in-github",
        "colab_type": "text"
      },
      "source": [
        "<a href=\"https://colab.research.google.com/github/marfurt1/Andrew-NG-Notes/blob/master/prueba_drift_normalizado.ipynb\" target=\"_parent\"><img src=\"https://colab.research.google.com/assets/colab-badge.svg\" alt=\"Open In Colab\"/></a>"
      ]
    },
    {
      "cell_type": "code",
      "metadata": {
        "id": "bHPt57t2Ryjq",
        "colab": {
          "base_uri": "https://localhost:8080/"
        },
        "outputId": "bd18cecf-c314-40ce-ac5e-83ef206d9add"
      },
      "source": [
        "#install.packages(c( \"ggplot2\",\"scales\", \"xgboost\", \"caret\"), dependences=T)\n",
        "library(ggplot2)\n",
        "library(scales)\n",
        "library(xgboost)\n",
        "library(caret)"
      ],
      "execution_count": null,
      "outputs": [
        {
          "output_type": "stream",
          "name": "stderr",
          "text": [
            "Installing packages into ‘/usr/local/lib/R/site-library’\n",
            "(as ‘lib’ is unspecified)\n",
            "\n",
            "also installing the dependencies ‘listenv’, ‘parallelly’, ‘future’, ‘globals’, ‘future.apply’, ‘progressr’, ‘numDeriv’, ‘SQUAREM’, ‘lava’, ‘prodlim’, ‘proxy’, ‘iterators’, ‘Rcpp’, ‘gower’, ‘hardhat’, ‘ipred’, ‘timeDate’, ‘e1071’, ‘foreach’, ‘ModelMetrics’, ‘plyr’, ‘pROC’, ‘recipes’, ‘reshape2’\n",
            "\n",
            "\n"
          ]
        }
      ]
    },
    {
      "cell_type": "code",
      "source": [
        "unif_1=runif(150000, min=0, max=4)"
      ],
      "metadata": {
        "id": "Is-1aT9g3q5q"
      },
      "execution_count": null,
      "outputs": []
    },
    {
      "cell_type": "code",
      "source": [
        "unif_2=runif(150000, min=1, max=300)"
      ],
      "metadata": {
        "id": "_p-kqOYI4LB-"
      },
      "execution_count": null,
      "outputs": []
    },
    {
      "cell_type": "code",
      "source": [
        "interaccion=c(unif_1*unif_2)\n"
      ],
      "metadata": {
        "id": "KCQMSI9R4YtJ"
      },
      "execution_count": null,
      "outputs": []
    },
    {
      "cell_type": "code",
      "source": [
        "data=data.frame(uno=unif_1, dos=unif_2, stratificacion=interaccion, q= NA, target=NA)\n",
        "head(data)"
      ],
      "metadata": {
        "colab": {
          "base_uri": "https://localhost:8080/",
          "height": 286
        },
        "id": "q32f8Kav4fu-",
        "outputId": "acaae12a-32ab-46b2-9de5-ecfcce5482ce"
      },
      "execution_count": null,
      "outputs": [
        {
          "output_type": "display_data",
          "data": {
            "text/html": [
              "<table class=\"dataframe\">\n",
              "<caption>A data.frame: 6 × 5</caption>\n",
              "<thead>\n",
              "\t<tr><th></th><th scope=col>uno</th><th scope=col>dos</th><th scope=col>stratificacion</th><th scope=col>q</th><th scope=col>target</th></tr>\n",
              "\t<tr><th></th><th scope=col>&lt;dbl&gt;</th><th scope=col>&lt;dbl&gt;</th><th scope=col>&lt;dbl&gt;</th><th scope=col>&lt;lgl&gt;</th><th scope=col>&lt;lgl&gt;</th></tr>\n",
              "</thead>\n",
              "<tbody>\n",
              "\t<tr><th scope=row>1</th><td>1.2006118</td><td>116.73308</td><td>140.15112</td><td>NA</td><td>NA</td></tr>\n",
              "\t<tr><th scope=row>2</th><td>1.3406322</td><td> 66.60941</td><td> 89.29873</td><td>NA</td><td>NA</td></tr>\n",
              "\t<tr><th scope=row>3</th><td>3.0174831</td><td>128.19015</td><td>386.81162</td><td>NA</td><td>NA</td></tr>\n",
              "\t<tr><th scope=row>4</th><td>2.3098113</td><td>130.58685</td><td>301.63099</td><td>NA</td><td>NA</td></tr>\n",
              "\t<tr><th scope=row>5</th><td>0.5143581</td><td>235.86516</td><td>121.31916</td><td>NA</td><td>NA</td></tr>\n",
              "\t<tr><th scope=row>6</th><td>3.2308855</td><td> 35.30925</td><td>114.08014</td><td>NA</td><td>NA</td></tr>\n",
              "</tbody>\n",
              "</table>\n"
            ],
            "text/markdown": "\nA data.frame: 6 × 5\n\n| <!--/--> | uno &lt;dbl&gt; | dos &lt;dbl&gt; | stratificacion &lt;dbl&gt; | q &lt;lgl&gt; | target &lt;lgl&gt; |\n|---|---|---|---|---|---|\n| 1 | 1.2006118 | 116.73308 | 140.15112 | NA | NA |\n| 2 | 1.3406322 |  66.60941 |  89.29873 | NA | NA |\n| 3 | 3.0174831 | 128.19015 | 386.81162 | NA | NA |\n| 4 | 2.3098113 | 130.58685 | 301.63099 | NA | NA |\n| 5 | 0.5143581 | 235.86516 | 121.31916 | NA | NA |\n| 6 | 3.2308855 |  35.30925 | 114.08014 | NA | NA |\n\n",
            "text/latex": "A data.frame: 6 × 5\n\\begin{tabular}{r|lllll}\n  & uno & dos & stratificacion & q & target\\\\\n  & <dbl> & <dbl> & <dbl> & <lgl> & <lgl>\\\\\n\\hline\n\t1 & 1.2006118 & 116.73308 & 140.15112 & NA & NA\\\\\n\t2 & 1.3406322 &  66.60941 &  89.29873 & NA & NA\\\\\n\t3 & 3.0174831 & 128.19015 & 386.81162 & NA & NA\\\\\n\t4 & 2.3098113 & 130.58685 & 301.63099 & NA & NA\\\\\n\t5 & 0.5143581 & 235.86516 & 121.31916 & NA & NA\\\\\n\t6 & 3.2308855 &  35.30925 & 114.08014 & NA & NA\\\\\n\\end{tabular}\n",
            "text/plain": [
              "  uno       dos       stratificacion q  target\n",
              "1 1.2006118 116.73308 140.15112      NA NA    \n",
              "2 1.3406322  66.60941  89.29873      NA NA    \n",
              "3 3.0174831 128.19015 386.81162      NA NA    \n",
              "4 2.3098113 130.58685 301.63099      NA NA    \n",
              "5 0.5143581 235.86516 121.31916      NA NA    \n",
              "6 3.2308855  35.30925 114.08014      NA NA    "
            ]
          },
          "metadata": {}
        }
      ]
    },
    {
      "cell_type": "code",
      "source": [
        "data$q= rank(data$stratificacion)/nrow(data)"
      ],
      "metadata": {
        "id": "9D1hVuEe5IYs"
      },
      "execution_count": null,
      "outputs": []
    },
    {
      "cell_type": "code",
      "source": [
        "min_q=0 \n",
        "max_q=0.2\n",
        "proporcion=0.01\n",
        "\n",
        "  n= length( data$target[ data$q  < max_q & data$q >= min_q ] )\n",
        "  prob=runif(n, 0, 1)\n",
        "  \n",
        " data$target[data$q  < max_q & data$q >= min_q ] = ifelse(prob <proporcion, 1, 0) \n",
        "\n",
        "\n",
        "\n",
        "\n",
        "min_q=0.2\n",
        "max_q=0.4\n",
        "proporcion=0.1\n",
        "\n",
        "  n= length( data$target[ data$q  < max_q & data$q >= min_q ] )\n",
        "  prob=runif(n, 0, 1)\n",
        "  \n",
        " data$target[data$q  < max_q & data$q >= min_q ] = ifelse(prob <proporcion, 1, 0) \n",
        "\n",
        "\n",
        "\n",
        "\n",
        " min_q=0.4\n",
        "max_q=0.6\n",
        "proporcion=0.25\n",
        "\n",
        "  n= length( data$target[ data$q  < max_q & data$q >= min_q ] )\n",
        "  prob=runif(n, 0, 1)\n",
        "  \n",
        " data$target[data$q  < max_q & data$q >= min_q ] = ifelse(prob <proporcion, 1, 0) \n",
        "\n",
        "\n",
        "\n",
        " min_q=0.6\n",
        "max_q=0.8\n",
        "proporcion=0.6\n",
        "\n",
        "  n= length( data$target[ data$q  < max_q & data$q >= min_q ] )\n",
        "  prob=runif(n, 0, 1)\n",
        "  \n",
        " data$target[data$q  < max_q & data$q >= min_q ] = ifelse(prob <proporcion, 1, 0) \n",
        "\n",
        "\n",
        " min_q=0.8\n",
        "max_q=1.1\n",
        "proporcion=0.9\n",
        "\n",
        "  n= length( data$target[ data$q  < max_q & data$q >= min_q ] )\n",
        "  prob=runif(n, 0, 1)\n",
        "  \n",
        " data$target[data$q  < max_q & data$q >= min_q ] = ifelse(prob <proporcion, 1, 0) \n",
        "\n",
        "\n",
        "\n"
      ],
      "metadata": {
        "id": "febKtgA7Ah-r"
      },
      "execution_count": null,
      "outputs": []
    },
    {
      "cell_type": "code",
      "source": [
        "ggplot(data, aes(stratificacion, fill = as.factor(target))) + \n",
        "   geom_histogram(alpha = 0.5, aes(y = ..density..), position = 'identity')"
      ],
      "metadata": {
        "id": "qSL1r47oQXB1",
        "outputId": "414f7f63-9c50-418c-c487-c274e21c8d03",
        "colab": {
          "base_uri": "https://localhost:8080/",
          "height": 472
        }
      },
      "execution_count": null,
      "outputs": [
        {
          "output_type": "stream",
          "name": "stderr",
          "text": [
            "`stat_bin()` using `bins = 30`. Pick better value with `binwidth`.\n",
            "\n"
          ]
        },
        {
          "output_type": "display_data",
          "data": {
            "text/plain": [
              "plot without title"
            ],
            "image/png": "[encoded data removed]"
          },
          "metadata": {
            "image/png": {
              "width": 420,
              "height": 420
            }
          }
        }
      ]
    },
    {
      "cell_type": "code",
      "source": [
        "#make this example reproducible\n",
        "set.seed(0)\n",
        "\n",
        "#normalizo \n",
        "\n",
        "#split into training (80%) and testing set (20%)\n",
        "parts = createDataPartition(data$target, p = .7, list = F)\n",
        "train = data[parts, ]\n",
        "test = data[-parts, ]\n",
        "\n",
        "#define predictor and response variables in training set\n",
        "train_x = data.matrix(train[, c(1,2)])\n",
        "train_y = train[,5]\n",
        "\n",
        "#define predictor and response variables in testing set\n",
        "test_x = data.matrix(test[, c(1,2)])\n",
        "test_y = test[,5]\n",
        "\n",
        "#define final training and testing sets\n",
        "xgb_train = xgb.DMatrix(data = train_x, label = train_y)\n",
        "xgb_test = xgb.DMatrix(data = test_x, label = test_y)"
      ],
      "metadata": {
        "id": "hE4rRfJ0Fh35"
      },
      "execution_count": null,
      "outputs": []
    },
    {
      "cell_type": "code",
      "source": [
        "#define watchlist\n",
        "watchlist = list(train=xgb_train, test=xgb_test)\n",
        "\n",
        "#fit XGBoost model and display training and testing data at each round\n",
        "model = xgb.train(data = xgb_train, max.depth = 2, watchlist=watchlist, nrounds = 20)\n",
        "\n",
        "\n"
      ],
      "metadata": {
        "id": "nCv5bEJMXo2U",
        "outputId": "6fdc1c2b-331d-450a-d5d0-0c88c18b87b4",
        "colab": {
          "base_uri": "https://localhost:8080/"
        }
      },
      "execution_count": null,
      "outputs": [
        {
          "output_type": "stream",
          "name": "stdout",
          "text": [
            "[1]\ttrain-rmse:0.446683\ttest-rmse:0.447319 \n",
            "[2]\ttrain-rmse:0.413893\ttest-rmse:0.415161 \n",
            "[3]\ttrain-rmse:0.393478\ttest-rmse:0.395220 \n",
            "[4]\ttrain-rmse:0.380545\ttest-rmse:0.382450 \n",
            "[5]\ttrain-rmse:0.373078\ttest-rmse:0.375100 \n",
            "[6]\ttrain-rmse:0.367719\ttest-rmse:0.369984 \n",
            "[7]\ttrain-rmse:0.364723\ttest-rmse:0.367091 \n",
            "[8]\ttrain-rmse:0.362775\ttest-rmse:0.365191 \n",
            "[9]\ttrain-rmse:0.361424\ttest-rmse:0.363867 \n",
            "[10]\ttrain-rmse:0.359883\ttest-rmse:0.362381 \n",
            "[11]\ttrain-rmse:0.359264\ttest-rmse:0.361794 \n",
            "[12]\ttrain-rmse:0.358835\ttest-rmse:0.361385 \n",
            "[13]\ttrain-rmse:0.358575\ttest-rmse:0.361147 \n",
            "[14]\ttrain-rmse:0.358357\ttest-rmse:0.360910 \n",
            "[15]\ttrain-rmse:0.358047\ttest-rmse:0.360611 \n",
            "[16]\ttrain-rmse:0.357883\ttest-rmse:0.360449 \n",
            "[17]\ttrain-rmse:0.357803\ttest-rmse:0.360380 \n",
            "[18]\ttrain-rmse:0.357732\ttest-rmse:0.360329 \n",
            "[19]\ttrain-rmse:0.357677\ttest-rmse:0.360275 \n",
            "[20]\ttrain-rmse:0.357651\ttest-rmse:0.360262 \n"
          ]
        }
      ]
    },
    {
      "cell_type": "code",
      "source": [
        "#install.packages(\"pROC\")\n",
        "library(pROC)"
      ],
      "metadata": {
        "id": "upyOHC2GlJCf"
      },
      "execution_count": null,
      "outputs": []
    },
    {
      "cell_type": "code",
      "source": [
        "test_prob_baseline = predict(model, test_x, type = \"response\")\n",
        "\n",
        "test_roc_baseline = roc(test_y ~ test_prob_baseline, plot = TRUE, print.auc = TRUE)"
      ],
      "metadata": {
        "id": "wvp480yRk0WO",
        "outputId": "7f6db1a6-89f3-488b-9a14-c5d55fa77298",
        "colab": {
          "base_uri": "https://localhost:8080/",
          "height": 506
        }
      },
      "execution_count": null,
      "outputs": [
        {
          "output_type": "stream",
          "name": "stderr",
          "text": [
            "Setting levels: control = 0, case = 1\n",
            "\n",
            "Setting direction: controls < cases\n",
            "\n"
          ]
        },
        {
          "output_type": "display_data",
          "data": {
            "text/plain": [
              "plot without title"
            ],
            "image/png": "[encoded data removed]"
          },
          "metadata": {
            "image/png": {
              "width": 420,
              "height": 420
            }
          }
        }
      ]
    },
    {
      "cell_type": "code",
      "source": [
        "train_prob = predict(model, train_x, type = \"response\")\n",
        "\n",
        "train_roc = roc(train_y ~ train_prob, plot = TRUE, print.auc = TRUE)"
      ],
      "metadata": {
        "id": "YTImDD_PlYvw",
        "outputId": "b00c53a6-186b-4573-e408-0d71f8ce4d80",
        "colab": {
          "base_uri": "https://localhost:8080/",
          "height": 506
        }
      },
      "execution_count": null,
      "outputs": [
        {
          "output_type": "stream",
          "name": "stderr",
          "text": [
            "Setting levels: control = 0, case = 1\n",
            "\n",
            "Setting direction: controls < cases\n",
            "\n"
          ]
        },
        {
          "output_type": "display_data",
          "data": {
            "text/plain": [
              "plot without title"
            ],
            "image/png": "[encoded data removed]"
          },
          "metadata": {
            "image/png": {
              "width": 420,
              "height": 420
            }
          }
        }
      ]
    },
    {
      "cell_type": "code",
      "source": [
        "#split into training (80%) and testing set (20%)\n",
        "test_x=data.frame(uno=test_x[,1], dos=test_x[,2], target=test_y)\n",
        "\n",
        "porcion = createDataPartition(test_x$uno, p = .6, list = F)\n",
        "sube = test_x[porcion, ]\n",
        "mantiene = test_x[-porcion, ]\n",
        "\n",
        "sube$uno=sube$uno*runif(length(sube$uno),0.2,0.33)\n",
        "\n",
        "#lo armo, para desarmarlo\n",
        "test_alterado_1=rbind(sube, mantiene)\n",
        "\n",
        "porcion = createDataPartition(test_alterado_1$dos, p = .6, list = F)\n",
        "sube = test_alterado_1[porcion, ]\n",
        "mantiene = test_alterado_1[-porcion, ]\n",
        "\n",
        "sube$dos=sube$dos*runif(length(sube$dos),1.5,2.2)\n",
        "\n",
        "test_alterado=rbind(sube, mantiene)\n",
        "mean(test_x$uno)\n",
        "mean(test_alterado$uno)\n",
        "mean(test_x$dos)\n",
        "mean(test_alterado$dos)\n",
        "\n"
      ],
      "metadata": {
        "id": "7X-5d0VgljBN",
        "outputId": "fb8b5be4-f9a7-4bea-a008-f9c3dc4033ca",
        "colab": {
          "base_uri": "https://localhost:8080/",
          "height": 104
        }
      },
      "execution_count": null,
      "outputs": [
        {
          "output_type": "display_data",
          "data": {
            "text/html": [
              "1.99841094350221"
            ],
            "text/markdown": "1.99841094350221",
            "text/latex": "1.99841094350221",
            "text/plain": [
              "[1] 1.998411"
            ]
          },
          "metadata": {}
        },
        {
          "output_type": "display_data",
          "data": {
            "text/html": [
              "1.11707006192532"
            ],
            "text/markdown": "1.11707006192532",
            "text/latex": "1.11707006192532",
            "text/plain": [
              "[1] 1.11707"
            ]
          },
          "metadata": {}
        },
        {
          "output_type": "display_data",
          "data": {
            "text/html": [
              "150.47391482952"
            ],
            "text/markdown": "150.47391482952",
            "text/latex": "150.47391482952",
            "text/plain": [
              "[1] 150.4739"
            ]
          },
          "metadata": {}
        },
        {
          "output_type": "display_data",
          "data": {
            "text/html": [
              "227.318769121952"
            ],
            "text/markdown": "227.318769121952",
            "text/latex": "227.318769121952",
            "text/plain": [
              "[1] 227.3188"
            ]
          },
          "metadata": {}
        },
        {
          "output_type": "display_data",
          "data": {
            "text/html": [
              "45000"
            ],
            "text/markdown": "45000",
            "text/latex": "45000",
            "text/plain": [
              "[1] 45000"
            ]
          },
          "metadata": {}
        }
      ]
    },
    {
      "cell_type": "code",
      "source": [
        "#define final training and testing sets\n",
        "alterado_x = data.matrix(test_alterado[,c(1,2)])\n",
        "alterado_y = test_alterado[,c(3)]\n",
        "\n",
        "\n",
        "\n",
        "test_prob = predict(model, alterado_x, type = \"response\")\n",
        "\n",
        "test_roc = roc(alterado_y ~ test_prob, plot = TRUE, print.auc = TRUE)"
      ],
      "metadata": {
        "id": "wOmfji5dnN_G",
        "outputId": "6f0a6162-3a0f-481e-fde1-a12acd4cc004",
        "colab": {
          "base_uri": "https://localhost:8080/",
          "height": 506
        }
      },
      "execution_count": null,
      "outputs": [
        {
          "output_type": "stream",
          "name": "stderr",
          "text": [
            "Setting levels: control = 0, case = 1\n",
            "\n",
            "Setting direction: controls < cases\n",
            "\n"
          ]
        },
        {
          "output_type": "display_data",
          "data": {
            "text/plain": [
              "plot without title"
            ],
            "image/png": "[encoded data removed]"
          },
          "metadata": {
            "image/png": {
              "width": 420,
              "height": 420
            }
          }
        }
      ]
    },
    {
      "cell_type": "code",
      "source": [
        "ks.test(test_prob_baseline,test_y)$statistic\n",
        "ks.test(test_prob,alterado_y)$statistic"
      ],
      "metadata": {
        "id": "b6Eaxe4u7Kuh",
        "outputId": "e63c1f13-be86-4d78-c962-73b5971eabe0",
        "colab": {
          "base_uri": "https://localhost:8080/",
          "height": 121
        }
      },
      "execution_count": null,
      "outputs": [
        {
          "output_type": "stream",
          "name": "stderr",
          "text": [
            "Warning message in ks.test.default(test_prob_baseline, test_y):\n",
            "“p-value will be approximate in the presence of ties”\n"
          ]
        },
        {
          "output_type": "display_data",
          "data": {
            "text/html": [
              "<strong>D:</strong> 0.5642"
            ],
            "text/markdown": "**D:** 0.5642",
            "text/latex": "\\textbf{D:} 0.5642",
            "text/plain": [
              "     D \n",
              "0.5642 "
            ]
          },
          "metadata": {}
        },
        {
          "output_type": "stream",
          "name": "stderr",
          "text": [
            "Warning message in ks.test.default(test_prob, alterado_y):\n",
            "“p-value will be approximate in the presence of ties”\n"
          ]
        },
        {
          "output_type": "display_data",
          "data": {
            "text/html": [
              "<strong>D:</strong> 0.536244444444444"
            ],
            "text/markdown": "**D:** 0.536244444444444",
            "text/latex": "\\textbf{D:} 0.536244444444444",
            "text/plain": [
              "        D \n",
              "0.5362444 "
            ]
          },
          "metadata": {}
        }
      ]
    },
    {
      "cell_type": "code",
      "source": [
        "mean(test_prob_baseline)\n",
        "mean(test_prob)\n"
      ],
      "metadata": {
        "id": "e2QDhlkLpnpL",
        "outputId": "dd0ac0f4-b9b1-4a56-beb7-7ec24a162fd5",
        "colab": {
          "base_uri": "https://localhost:8080/",
          "height": 52
        }
      },
      "execution_count": null,
      "outputs": [
        {
          "output_type": "display_data",
          "data": {
            "text/html": [
              "0.370946142570713"
            ],
            "text/markdown": "0.370946142570713",
            "text/latex": "0.370946142570713",
            "text/plain": [
              "[1] 0.3709461"
            ]
          },
          "metadata": {}
        },
        {
          "output_type": "display_data",
          "data": {
            "text/html": [
              "0.242284545720422"
            ],
            "text/markdown": "0.242284545720422",
            "text/latex": "0.242284545720422",
            "text/plain": [
              "[1] 0.2422845"
            ]
          },
          "metadata": {}
        }
      ]
    },
    {
      "cell_type": "code",
      "source": [
        "decil_baseline=data.frame(prob=test_prob_baseline, target=test_y)\n",
        "decil_alterado=data.frame(prob=test_prob, target= alterado_y)\n",
        "\n",
        "decil_baseline= decil_baseline[order(-test_prob_baseline),]\n",
        "decil_alterado= decil_alterado[order(-test_prob),]\n",
        "\n",
        "decil_baseline=decil_baseline[c(1:round(nrow(decil_baseline)*.10,0) ), ]\n",
        "decil_alterado=decil_alterado[c(1:round(nrow(decil_alterado)*.10,0) ), ]\n",
        "\n",
        "mean(decil_baseline$target)\n",
        "mean(decil_alterado$target)\n",
        "\n",
        "\n"
      ],
      "metadata": {
        "id": "mRDnGxqO7wGe",
        "outputId": "f6fd9c0c-99d2-4106-edcd-24aafd0f3815",
        "colab": {
          "base_uri": "https://localhost:8080/",
          "height": 69
        }
      },
      "execution_count": null,
      "outputs": [
        {
          "output_type": "display_data",
          "data": {
            "text/html": [
              "0.898"
            ],
            "text/markdown": "0.898",
            "text/latex": "0.898",
            "text/plain": [
              "[1] 0.898"
            ]
          },
          "metadata": {}
        },
        {
          "output_type": "display_data",
          "data": {
            "text/html": [
              "0.810888888888889"
            ],
            "text/markdown": "0.810888888888889",
            "text/latex": "0.810888888888889",
            "text/plain": [
              "[1] 0.8108889"
            ]
          },
          "metadata": {}
        },
        {
          "output_type": "display_data",
          "data": {
            "text/html": [
              "0.876842439174652"
            ],
            "text/markdown": "0.876842439174652",
            "text/latex": "0.876842439174652",
            "text/plain": [
              "[1] 0.8768424"
            ]
          },
          "metadata": {}
        }
      ]
    },
    {
      "cell_type": "code",
      "source": [
        "cut_off=min(decil_baseline$prob)\n",
        "\n",
        "alterado_corta_cut_off=data.frame(prob=test_prob, target= alterado_y)\n",
        "alterado_corta_cut_off=alterado_corta_cut_off[alterado_corta_cut_off$prob>cut_off, ]\n",
        "\n",
        "nrow(alterado_corta_cut_off)\n",
        "mean(alterado_corta_cut_off$target)"
      ],
      "metadata": {
        "id": "lLMyllXw_GNX",
        "outputId": "3e8a70b3-7661-409e-cd4c-c60418365516",
        "colab": {
          "base_uri": "https://localhost:8080/",
          "height": 52
        }
      },
      "execution_count": null,
      "outputs": [
        {
          "output_type": "display_data",
          "data": {
            "text/html": [
              "3487"
            ],
            "text/markdown": "3487",
            "text/latex": "3487",
            "text/plain": [
              "[1] 3487"
            ]
          },
          "metadata": {}
        },
        {
          "output_type": "display_data",
          "data": {
            "text/html": [
              "0.83538858617723"
            ],
            "text/markdown": "0.83538858617723",
            "text/latex": "0.83538858617723",
            "text/plain": [
              "[1] 0.8353886"
            ]
          },
          "metadata": {}
        }
      ]
    }
  ]
}